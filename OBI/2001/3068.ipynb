{
 "cells": [
  {
   "cell_type": "code",
   "execution_count": 1,
   "metadata": {},
   "outputs": [
    {
     "name": "stdout",
     "output_type": "stream",
     "text": [
      "Teste 1\n",
      "1\n",
      "Teste 2\n",
      "2\n"
     ]
    }
   ],
   "source": [
    "k = 1\n",
    "while(True):\n",
    "    x1, y1, x2, y2 = map(int, input().split())\n",
    "    if(x1 == 0 and y1 == 0 and x2 == 0 and y2 == 0): break\n",
    "    cont = 0\n",
    "    \n",
    "    n = int(input())\n",
    "    for i in range(0,n):\n",
    "        x, y = map(int, input().split())\n",
    "        \n",
    "        if(x <= x2 and x >= x1 and y <= y1 and y >= y2): cont+=1\n",
    "        \n",
    "    print(\"Teste\", k)\n",
    "    k+=1\n",
    "    print(cont)"
   ]
  }
 ],
 "metadata": {
  "kernelspec": {
   "display_name": "Python 3",
   "language": "python",
   "name": "python3"
  },
  "language_info": {
   "codemirror_mode": {
    "name": "ipython",
    "version": 3
   },
   "file_extension": ".py",
   "mimetype": "text/x-python",
   "name": "python",
   "nbconvert_exporter": "python",
   "pygments_lexer": "ipython3",
   "version": "3.13.2"
  }
 },
 "nbformat": 4,
 "nbformat_minor": 2
}
