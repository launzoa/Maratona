{
 "cells": [
  {
   "cell_type": "code",
   "execution_count": null,
   "metadata": {},
   "outputs": [
    {
     "name": "stdout",
     "output_type": "stream",
     "text": [
      "Teste 1\n",
      "55\n"
     ]
    }
   ],
   "source": [
    "i = 1\n",
    "n = int(input())\n",
    "while(n != 0):\n",
    "    \n",
    "    fila = []; pilha = []\n",
    "    op = ''; numerico = ''\n",
    "    indice = 0\n",
    "    expr = input().strip()\n",
    "    \n",
    "    print(\"Teste\", i)\n",
    "    i+=1\n",
    "    for val in expr:\n",
    "\n",
    "        if (val in '+-'):\n",
    "            \n",
    "            fila.append(numerico)\n",
    "            numerico = ''\n",
    "            \n",
    "            if(op != ''):\n",
    "                fila.append(op)\n",
    "                op = val\n",
    "                \n",
    "            else:\n",
    "                op = val\n",
    "\n",
    "        else:\n",
    "            numerico += val\n",
    "    \n",
    "    if numerico:\n",
    "        fila.append(numerico)\n",
    "        \n",
    "    fila.append(op)\n",
    "    \n",
    "    for elemento in fila:\n",
    "\n",
    "            \n",
    "            \n",
    "        if(elemento == '+'):\n",
    "            v2 = pilha.pop()\n",
    "            v1 = pilha.pop()\n",
    "            pilha.append(v1 + v2)\n",
    "            \n",
    "            \n",
    "            \n",
    "        elif (elemento == '-'):\n",
    "            v2 = pilha.pop()\n",
    "            v1 = pilha.pop()\n",
    "            pilha.append(v1 - v2)\n",
    "                \n",
    "                \n",
    "        else:\n",
    "            if elemento:\n",
    "                pilha.append(int(elemento))\n",
    "        \n",
    "    print(pilha[0])\n",
    "    print()\n",
    "    n = int(input())\n",
    "            "
   ]
  }
 ],
 "metadata": {
  "kernelspec": {
   "display_name": "Python 3",
   "language": "python",
   "name": "python3"
  },
  "language_info": {
   "codemirror_mode": {
    "name": "ipython",
    "version": 3
   },
   "file_extension": ".py",
   "mimetype": "text/x-python",
   "name": "python",
   "nbconvert_exporter": "python",
   "pygments_lexer": "ipython3",
   "version": "3.13.2"
  }
 },
 "nbformat": 4,
 "nbformat_minor": 2
}
