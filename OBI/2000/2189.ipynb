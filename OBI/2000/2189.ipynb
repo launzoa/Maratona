{
 "cells": [
  {
   "cell_type": "code",
   "execution_count": 1,
   "metadata": {},
   "outputs": [
    {
     "name": "stdout",
     "output_type": "stream",
     "text": [
      "Teste 1\n",
      "3\n",
      "\n",
      "Teste 2\n",
      "5\n",
      "\n"
     ]
    }
   ],
   "source": [
    "#Quermesse\n",
    "k = 1\n",
    "while(True):\n",
    "    n = int(input())\n",
    "    if(n == 0): break\n",
    "    print(\"Teste\", k)\n",
    "    k+=1\n",
    "    \n",
    "    convidados = list(map(int, input().split()))\n",
    "\n",
    "    for i in range(0, n):\n",
    "        if(convidados[i] == i+1):\n",
    "            print(i+1)\n",
    "            break\n",
    "    \n",
    "    print(\"\") "
   ]
  }
 ],
 "metadata": {
  "kernelspec": {
   "display_name": "Python 3",
   "language": "python",
   "name": "python3"
  },
  "language_info": {
   "codemirror_mode": {
    "name": "ipython",
    "version": 3
   },
   "file_extension": ".py",
   "mimetype": "text/x-python",
   "name": "python",
   "nbconvert_exporter": "python",
   "pygments_lexer": "ipython3",
   "version": "3.13.2"
  }
 },
 "nbformat": 4,
 "nbformat_minor": 2
}
